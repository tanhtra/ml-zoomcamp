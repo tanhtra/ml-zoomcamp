{
 "cells": [
  {
   "cell_type": "code",
   "execution_count": 2,
   "id": "eddb018b-ae04-4b12-8100-7e54384e9950",
   "metadata": {},
   "outputs": [],
   "source": [
    "import pandas as pd"
   ]
  },
  {
   "cell_type": "code",
   "execution_count": 3,
   "id": "166a9d7a-6aaa-4e9c-aa46-e86f4f55ed83",
   "metadata": {},
   "outputs": [
    {
     "data": {
      "text/plain": [
       "'2.2.2'"
      ]
     },
     "execution_count": 3,
     "metadata": {},
     "output_type": "execute_result"
    }
   ],
   "source": [
    "pd.__version__"
   ]
  },
  {
   "cell_type": "code",
   "execution_count": 9,
   "id": "88aa4b5b-6c02-4366-8d38-456aac500b14",
   "metadata": {},
   "outputs": [],
   "source": [
    "laptops = pd.read_csv('laptops.csv')"
   ]
  },
  {
   "cell_type": "code",
   "execution_count": 14,
   "id": "5dc3e65c-6150-4f5e-8cfd-51763122bfc3",
   "metadata": {},
   "outputs": [
    {
     "data": {
      "text/plain": [
       "2160"
      ]
     },
     "execution_count": 14,
     "metadata": {},
     "output_type": "execute_result"
    }
   ],
   "source": [
    "len(laptops)"
   ]
  },
  {
   "cell_type": "code",
   "execution_count": 18,
   "id": "fa5dea6d-9eff-429d-bcc8-7e6528b65ff1",
   "metadata": {},
   "outputs": [
    {
     "data": {
      "text/plain": [
       "27"
      ]
     },
     "execution_count": 18,
     "metadata": {},
     "output_type": "execute_result"
    }
   ],
   "source": [
    "len(laptops.Brand.unique())"
   ]
  },
  {
   "cell_type": "code",
   "execution_count": 24,
   "id": "f7fed63e-2da6-49bc-964a-122e898bc453",
   "metadata": {},
   "outputs": [
    {
     "data": {
      "text/plain": [
       "Laptop          False\n",
       "Status          False\n",
       "Brand           False\n",
       "Model           False\n",
       "CPU             False\n",
       "RAM             False\n",
       "Storage         False\n",
       "Storage type     True\n",
       "GPU              True\n",
       "Screen           True\n",
       "Touch           False\n",
       "Final Price     False\n",
       "dtype: bool"
      ]
     },
     "execution_count": 24,
     "metadata": {},
     "output_type": "execute_result"
    }
   ],
   "source": [
    "laptops.isna().any()"
   ]
  },
  {
   "cell_type": "code",
   "execution_count": 30,
   "id": "7afc4fd3-fa9f-4aa5-b2c0-71f88d0e7fc8",
   "metadata": {},
   "outputs": [
    {
     "data": {
      "text/plain": [
       "3936.0"
      ]
     },
     "execution_count": 30,
     "metadata": {},
     "output_type": "execute_result"
    }
   ],
   "source": [
    "laptops[laptops['Brand'] == 'Dell']['Final Price'].max()"
   ]
  },
  {
   "cell_type": "code",
   "execution_count": 33,
   "id": "9ea4dd1d-0fd3-4813-a327-1d1db06b7917",
   "metadata": {},
   "outputs": [
    {
     "data": {
      "text/plain": [
       "15.6"
      ]
     },
     "execution_count": 33,
     "metadata": {},
     "output_type": "execute_result"
    }
   ],
   "source": [
    "laptops.Screen.median()"
   ]
  },
  {
   "cell_type": "code",
   "execution_count": 37,
   "id": "2766a367-556d-4a56-b671-eaa7a5ff5a27",
   "metadata": {},
   "outputs": [
    {
     "data": {
      "text/plain": [
       "Screen\n",
       "15.60    1009\n",
       "14.00     392\n",
       "16.00     174\n",
       "17.30     161\n",
       "13.30     131\n",
       "16.10      48\n",
       "17.00      33\n",
       "13.00      27\n",
       "15.00      21\n",
       "13.50      19\n",
       "13.40      19\n",
       "11.60      16\n",
       "14.20      14\n",
       "12.30      13\n",
       "14.10      11\n",
       "13.60      11\n",
       "16.20      10\n",
       "15.30       8\n",
       "10.50       7\n",
       "14.40       6\n",
       "12.40       6\n",
       "15.40       5\n",
       "12.00       4\n",
       "18.00       3\n",
       "14.50       3\n",
       "13.90       2\n",
       "12.50       1\n",
       "10.10       1\n",
       "10.95       1\n",
       "Name: count, dtype: int64"
      ]
     },
     "execution_count": 37,
     "metadata": {},
     "output_type": "execute_result"
    }
   ],
   "source": [
    "laptops.Screen.value_counts()"
   ]
  },
  {
   "cell_type": "code",
   "execution_count": 41,
   "id": "e10c889c-c028-4d76-9e11-7fa0cd09af30",
   "metadata": {},
   "outputs": [],
   "source": [
    "laptops_fillna = laptops.fillna(15.60)"
   ]
  },
  {
   "cell_type": "code",
   "execution_count": 42,
   "id": "e7e36ecb-5c95-41ca-a021-fb3bf0b4a75b",
   "metadata": {},
   "outputs": [
    {
     "data": {
      "text/plain": [
       "Screen\n",
       "15.60    1013\n",
       "14.00     392\n",
       "16.00     174\n",
       "17.30     161\n",
       "13.30     131\n",
       "16.10      48\n",
       "17.00      33\n",
       "13.00      27\n",
       "15.00      21\n",
       "13.50      19\n",
       "13.40      19\n",
       "11.60      16\n",
       "14.20      14\n",
       "12.30      13\n",
       "14.10      11\n",
       "13.60      11\n",
       "16.20      10\n",
       "15.30       8\n",
       "10.50       7\n",
       "14.40       6\n",
       "12.40       6\n",
       "15.40       5\n",
       "12.00       4\n",
       "18.00       3\n",
       "14.50       3\n",
       "13.90       2\n",
       "12.50       1\n",
       "10.10       1\n",
       "10.95       1\n",
       "Name: count, dtype: int64"
      ]
     },
     "execution_count": 42,
     "metadata": {},
     "output_type": "execute_result"
    }
   ],
   "source": [
    "laptops_fillna.Screen.value_counts()"
   ]
  },
  {
   "cell_type": "code",
   "execution_count": 44,
   "id": "1307d843-4800-4e8f-9db9-84089cb3009f",
   "metadata": {},
   "outputs": [
    {
     "data": {
      "text/plain": [
       "15.6"
      ]
     },
     "execution_count": 44,
     "metadata": {},
     "output_type": "execute_result"
    }
   ],
   "source": [
    "laptops_fillna.Screen.median()"
   ]
  },
  {
   "cell_type": "code",
   "execution_count": 120,
   "id": "7d565eac-6fdc-4236-9d9e-f4dd4611ed53",
   "metadata": {},
   "outputs": [],
   "source": [
    "innjoo = laptops_fillna[laptops['Brand'] == 'Innjoo']"
   ]
  },
  {
   "cell_type": "code",
   "execution_count": 171,
   "id": "6636e43f-1385-4fa8-8ffc-3f78c2aef4e9",
   "metadata": {},
   "outputs": [
    {
     "data": {
      "text/plain": [
       "array([[   8. ,  512. ,   15.6],\n",
       "       [   8. ,  256. ,   15.6],\n",
       "       [   8. ,  256. ,   15.6],\n",
       "       ...,\n",
       "       [  32. , 1000. ,   17.3],\n",
       "       [  16. , 1000. ,   13.4],\n",
       "       [  16. ,  256. ,   13.4]])"
      ]
     },
     "execution_count": 171,
     "metadata": {},
     "output_type": "execute_result"
    }
   ],
   "source": [
    "arrx = innjoo[['RAM','Storage','Screen']].values\n",
    "arrx"
   ]
  },
  {
   "cell_type": "code",
   "execution_count": 172,
   "id": "ef6bfbf6-a03a-444f-a165-9c8836e508a0",
   "metadata": {},
   "outputs": [],
   "source": [
    "import numpy as np"
   ]
  },
  {
   "cell_type": "code",
   "execution_count": 173,
   "id": "ac8fe8f1-831f-4ddd-9e43-5ccfb7ea4024",
   "metadata": {},
   "outputs": [],
   "source": [
    "def vector_vector_multiplication(u, v):\n",
    "    assert u.shape[0] == v.shape[0]\n",
    "    \n",
    "    n = u.shape[0]\n",
    "    \n",
    "    result = 0.0\n",
    "\n",
    "    for i in range(n):\n",
    "        result = result + u[i] * v[i]\n",
    "    \n",
    "    return result\n",
    "\n",
    "def matrix_vector_multiplication(U, v):\n",
    "    assert U.shape[1] == v.shape[0]\n",
    "    \n",
    "    num_rows = U.shape[0]\n",
    "    \n",
    "    result = np.zeros(num_rows)\n",
    "    \n",
    "    for i in range(num_rows):\n",
    "        result[i] = vector_vector_multiplication(U[i], v)\n",
    "    \n",
    "    return result\n",
    "\n",
    "def matrix_matrix_multiplication(U, V):\n",
    "    assert U.shape[1] == V.shape[0]\n",
    "    \n",
    "    num_rows = U.shape[0]\n",
    "    num_cols = V.shape[1]\n",
    "    \n",
    "    result = np.zeros((num_rows, num_cols))\n",
    "    \n",
    "    for i in range(num_cols):\n",
    "        vi = V[:, i]\n",
    "        Uvi = matrix_vector_multiplication(U, vi)\n",
    "        result[:, i] = Uvi\n",
    "    \n",
    "    return result"
   ]
  },
  {
   "cell_type": "code",
   "execution_count": 185,
   "id": "f3f2bb0c-6044-479b-856c-175d384e48ef",
   "metadata": {},
   "outputs": [
    {
     "data": {
      "text/plain": [
       "array([[   8. ,    8. ,    8. , ...,   32. ,   16. ,   16. ],\n",
       "       [ 512. ,  256. ,  256. , ..., 1000. , 1000. ,  256. ],\n",
       "       [  15.6,   15.6,   15.6, ...,   17.3,   13.4,   13.4]])"
      ]
     },
     "execution_count": 185,
     "metadata": {},
     "output_type": "execute_result"
    }
   ],
   "source": [
    "arrx_t = np.transpose(arrx)\n",
    "arrx_t"
   ]
  },
  {
   "cell_type": "code",
   "execution_count": 186,
   "id": "a208a7c3-da72-4397-baf6-b6b8d5d7661a",
   "metadata": {},
   "outputs": [
    {
     "data": {
      "text/plain": [
       "array([[7.23420000e+05, 2.56347520e+07, 5.14286600e+05],\n",
       "       [2.56347520e+07, 1.04973173e+09, 1.99103300e+07],\n",
       "       [5.14286600e+05, 1.99103300e+07, 5.00128312e+05]])"
      ]
     },
     "execution_count": 186,
     "metadata": {},
     "output_type": "execute_result"
    }
   ],
   "source": [
    "xtx = matrix_matrix_multiplication(arrx_t, arrx)\n",
    "xtx"
   ]
  },
  {
   "cell_type": "code",
   "execution_count": 187,
   "id": "65d75793-2e40-4a4c-884b-9ca9d861ba03",
   "metadata": {},
   "outputs": [
    {
     "data": {
      "text/plain": [
       "array([[ 1.09915475e-05, -2.20639891e-07, -2.51893871e-06],\n",
       "       [-2.20639891e-07,  8.31868438e-09, -1.04284462e-07],\n",
       "       [-2.51893871e-06, -1.04284462e-07,  8.74134571e-06]])"
      ]
     },
     "execution_count": 187,
     "metadata": {},
     "output_type": "execute_result"
    }
   ],
   "source": [
    "xtx_inv = np.linalg.inv(xtx)\n",
    "xtx_inv"
   ]
  },
  {
   "cell_type": "code",
   "execution_count": 184,
   "id": "5d1dc39f-ec5f-4769-85d5-a12386bb3233",
   "metadata": {},
   "outputs": [
    {
     "data": {
      "text/plain": [
       "array([1100, 1300,  800,  900, 1000, 1100])"
      ]
     },
     "execution_count": 184,
     "metadata": {},
     "output_type": "execute_result"
    }
   ],
   "source": [
    "y = np.array([1100, 1300, 800, 900, 1000, 1100])\n",
    "y"
   ]
  },
  {
   "cell_type": "code",
   "execution_count": null,
   "id": "c6cd5d52-4f26-4a89-8781-bd4f80ebb685",
   "metadata": {},
   "outputs": [],
   "source": []
  },
  {
   "cell_type": "code",
   "execution_count": 193,
   "id": "10b37ef8-7150-4f13-99ec-c9bd769899d0",
   "metadata": {},
   "outputs": [
    {
     "ename": "AssertionError",
     "evalue": "",
     "output_type": "error",
     "traceback": [
      "\u001b[0;31m---------------------------------------------------------------------------\u001b[0m",
      "\u001b[0;31mAssertionError\u001b[0m                            Traceback (most recent call last)",
      "Cell \u001b[0;32mIn[193], line 1\u001b[0m\n\u001b[0;32m----> 1\u001b[0m step \u001b[38;5;241m=\u001b[39m matrix_matrix_multiplication(xtx_inv, y)\n\u001b[1;32m      2\u001b[0m step\n",
      "Cell \u001b[0;32mIn[173], line 26\u001b[0m, in \u001b[0;36mmatrix_matrix_multiplication\u001b[0;34m(U, V)\u001b[0m\n\u001b[1;32m     25\u001b[0m \u001b[38;5;28;01mdef\u001b[39;00m \u001b[38;5;21mmatrix_matrix_multiplication\u001b[39m(U, V):\n\u001b[0;32m---> 26\u001b[0m     \u001b[38;5;28;01massert\u001b[39;00m U\u001b[38;5;241m.\u001b[39mshape[\u001b[38;5;241m1\u001b[39m] \u001b[38;5;241m==\u001b[39m V\u001b[38;5;241m.\u001b[39mshape[\u001b[38;5;241m0\u001b[39m]\n\u001b[1;32m     28\u001b[0m     num_rows \u001b[38;5;241m=\u001b[39m U\u001b[38;5;241m.\u001b[39mshape[\u001b[38;5;241m0\u001b[39m]\n\u001b[1;32m     29\u001b[0m     num_cols \u001b[38;5;241m=\u001b[39m V\u001b[38;5;241m.\u001b[39mshape[\u001b[38;5;241m1\u001b[39m]\n",
      "\u001b[0;31mAssertionError\u001b[0m: "
     ]
    }
   ],
   "source": [
    "step = matrix_matrix_multiplication(xtx_inv, y)\n",
    "step"
   ]
  },
  {
   "cell_type": "code",
   "execution_count": 190,
   "id": "fbdffa4e-a359-4bbb-8451-a6580fc914b2",
   "metadata": {},
   "outputs": [
    {
     "data": {
      "text/plain": [
       "(3, 3)"
      ]
     },
     "execution_count": 190,
     "metadata": {},
     "output_type": "execute_result"
    }
   ],
   "source": [
    "xtx_inv.shape"
   ]
  },
  {
   "cell_type": "code",
   "execution_count": 191,
   "id": "b6629fdb-0ecc-4084-ae3f-d121fe164d6f",
   "metadata": {},
   "outputs": [
    {
     "data": {
      "text/plain": [
       "(3, 2160)"
      ]
     },
     "execution_count": 191,
     "metadata": {},
     "output_type": "execute_result"
    }
   ],
   "source": [
    "arrx_t.shape"
   ]
  },
  {
   "cell_type": "code",
   "execution_count": 192,
   "id": "221411db-91e0-4764-bc97-abc1978567a2",
   "metadata": {},
   "outputs": [
    {
     "data": {
      "text/plain": [
       "(3, 2160)"
      ]
     },
     "execution_count": 192,
     "metadata": {},
     "output_type": "execute_result"
    }
   ],
   "source": [
    "step.shape"
   ]
  },
  {
   "cell_type": "code",
   "execution_count": 170,
   "id": "f240be82-bdf9-4fea-bc8b-7202f367fb5c",
   "metadata": {},
   "outputs": [
    {
     "ename": "AssertionError",
     "evalue": "",
     "output_type": "error",
     "traceback": [
      "\u001b[0;31m---------------------------------------------------------------------------\u001b[0m",
      "\u001b[0;31mAssertionError\u001b[0m                            Traceback (most recent call last)",
      "Cell \u001b[0;32mIn[170], line 1\u001b[0m\n\u001b[0;32m----> 1\u001b[0m matrix_vector_multiplication(step, y)\n",
      "Cell \u001b[0;32mIn[161], line 14\u001b[0m, in \u001b[0;36mmatrix_vector_multiplication\u001b[0;34m(U, v)\u001b[0m\n\u001b[1;32m     13\u001b[0m \u001b[38;5;28;01mdef\u001b[39;00m \u001b[38;5;21mmatrix_vector_multiplication\u001b[39m(U, v):\n\u001b[0;32m---> 14\u001b[0m     \u001b[38;5;28;01massert\u001b[39;00m U\u001b[38;5;241m.\u001b[39mshape[\u001b[38;5;241m1\u001b[39m] \u001b[38;5;241m==\u001b[39m v\u001b[38;5;241m.\u001b[39mshape[\u001b[38;5;241m0\u001b[39m]\n\u001b[1;32m     16\u001b[0m     num_rows \u001b[38;5;241m=\u001b[39m U\u001b[38;5;241m.\u001b[39mshape[\u001b[38;5;241m0\u001b[39m]\n\u001b[1;32m     18\u001b[0m     result \u001b[38;5;241m=\u001b[39m np\u001b[38;5;241m.\u001b[39mzeros(num_rows)\n",
      "\u001b[0;31mAssertionError\u001b[0m: "
     ]
    }
   ],
   "source": [
    "matrix_vector_multiplication(step, y)"
   ]
  },
  {
   "cell_type": "code",
   "execution_count": null,
   "id": "1d3b79fe-fb8a-4066-9c92-0d0b33578f73",
   "metadata": {},
   "outputs": [],
   "source": []
  }
 ],
 "metadata": {
  "kernelspec": {
   "display_name": "Python 3 (ipykernel)",
   "language": "python",
   "name": "python3"
  },
  "language_info": {
   "codemirror_mode": {
    "name": "ipython",
    "version": 3
   },
   "file_extension": ".py",
   "mimetype": "text/x-python",
   "name": "python",
   "nbconvert_exporter": "python",
   "pygments_lexer": "ipython3",
   "version": "3.11.9"
  }
 },
 "nbformat": 4,
 "nbformat_minor": 5
}
